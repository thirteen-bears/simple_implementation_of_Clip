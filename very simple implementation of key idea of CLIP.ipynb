{
 "cells": [
  {
   "cell_type": "markdown",
   "id": "a4c432f8",
   "metadata": {},
   "source": [
    "In this notebook, I try to implement the key idea of CLIP，including:\n",
    "- image embedding\n",
    "- word embedding\n",
    "- linear projection of embeddings\n",
    "- cosine similarity calculation between projected word embedding and projected image embedding\n",
    "- using prompt to find the image with high cosine similarity"
   ]
  },
  {
   "cell_type": "code",
   "execution_count": 61,
   "id": "df2eab69",
   "metadata": {},
   "outputs": [],
   "source": [
    "# import necessary library\n",
    "import torch\n",
    "import torchvision.models as models\n",
    "import torchvision.transforms as transforms\n",
    "from PIL import Image\n",
    "from transformers import BertTokenizer, BertModel\n",
    "import warnings\n",
    "import torch.nn as nn\n",
    "warnings.filterwarnings('ignore')"
   ]
  },
  {
   "cell_type": "markdown",
   "id": "9198ae74",
   "metadata": {},
   "source": [
    "### 1. Image embedding"
   ]
  },
  {
   "cell_type": "code",
   "execution_count": 36,
   "id": "598c08cd",
   "metadata": {},
   "outputs": [],
   "source": [
    "def get_image_embedding(img_path):\n",
    "    # load pretrained resnet50\n",
    "    resnet = models.resnet50(pretrained=True)\n",
    "\n",
    "    # delete the final layer\n",
    "    modules = list(resnet.children())[:-1]\n",
    "    resnet = torch.nn.Sequential(*modules)\n",
    "\n",
    "    # load image and preprocess\n",
    "    image = Image.open(img_path).convert('RGB')\n",
    "    transform = transforms.Compose([\n",
    "        transforms.Resize(256),\n",
    "        transforms.CenterCrop(224),\n",
    "        transforms.ToTensor(),\n",
    "        transforms.Normalize(mean=[0.485, 0.456, 0.406], std=[0.229, 0.224, 0.225])\n",
    "    ])\n",
    "    image = transform(image)\n",
    "    # model forward and get image embedding \n",
    "    with torch.no_grad():\n",
    "        encoding = resnet(image.unsqueeze(0))\n",
    "    img_embedding = encoding[0,:,0,0]\n",
    "    return img_embedding"
   ]
  },
  {
   "cell_type": "code",
   "execution_count": 71,
   "id": "75626890",
   "metadata": {},
   "outputs": [
    {
     "name": "stdout",
     "output_type": "stream",
     "text": [
      "dimention of image embedding: torch.Size([2048])\n"
     ]
    }
   ],
   "source": [
    "img_path1 = '1.png'\n",
    "img_embed1 = get_image_embedding(img_path1)\n",
    "print('dimention of image embedding:',img_embed1.shape)"
   ]
  },
  {
   "cell_type": "markdown",
   "id": "73f247f9",
   "metadata": {},
   "source": [
    "### 2. Text embedding"
   ]
  },
  {
   "cell_type": "code",
   "execution_count": 40,
   "id": "bcc6dd14",
   "metadata": {},
   "outputs": [],
   "source": [
    "def get_text_embedding(text_content):\n",
    "    # load bert and tokenizer\n",
    "    tokenizer = BertTokenizer.from_pretrained('bert-base-uncased')\n",
    "    model = BertModel.from_pretrained('bert-base-uncased', output_hidden_states = True)\n",
    "\n",
    "    input_sentence = text_content # input sentence\n",
    "    input_ids = torch.tensor([tokenizer.encode(input_sentence, add_special_tokens=True)])\n",
    "\n",
    "    # model forward and get text embedding \n",
    "    with torch.no_grad():\n",
    "        outputs = model(input_ids)\n",
    "        last_hidden_states = outputs[0]\n",
    "        mean_last_hidden_states = torch.mean(last_hidden_states, dim=1)\n",
    "    text_embedding = mean_last_hidden_states[0,:]\n",
    "    return text_embedding"
   ]
  },
  {
   "cell_type": "code",
   "execution_count": 68,
   "id": "c61df3b2",
   "metadata": {},
   "outputs": [
    {
     "name": "stderr",
     "output_type": "stream",
     "text": [
      "Some weights of the model checkpoint at bert-base-uncased were not used when initializing BertModel: ['cls.predictions.transform.LayerNorm.weight', 'cls.seq_relationship.weight', 'cls.predictions.decoder.weight', 'cls.predictions.transform.dense.bias', 'cls.seq_relationship.bias', 'cls.predictions.transform.LayerNorm.bias', 'cls.predictions.transform.dense.weight', 'cls.predictions.bias']\n",
      "- This IS expected if you are initializing BertModel from the checkpoint of a model trained on another task or with another architecture (e.g. initializing a BertForSequenceClassification model from a BertForPreTraining model).\n",
      "- This IS NOT expected if you are initializing BertModel from the checkpoint of a model that you expect to be exactly identical (initializing a BertForSequenceClassification model from a BertForSequenceClassification model).\n"
     ]
    },
    {
     "name": "stdout",
     "output_type": "stream",
     "text": [
      "dimention of text embedding: torch.Size([768])\n"
     ]
    }
   ],
   "source": [
    "text_content = 'a photo of digit 9'\n",
    "text_embed = get_text_embedding(text_content)\n",
    "\n",
    "print('dimention of text embedding:',text_embed.shape)"
   ]
  },
  {
   "cell_type": "markdown",
   "id": "68f1530e",
   "metadata": {},
   "source": [
    "## 3.Joint multimodal embedding using linear projection"
   ]
  },
  {
   "cell_type": "code",
   "execution_count": 62,
   "id": "cbdc7037",
   "metadata": {},
   "outputs": [],
   "source": [
    "def linear_projection(img_embed1,text_embed,dim_align,dim_text,dim_img):\n",
    "    linear_projection_text = nn.Linear(dim_text, dim_align)  \n",
    "    linear_projection_img = nn.Linear(dim_img, dim_align) \n",
    "    # linear projection\n",
    "    text_embed_aligned = linear_projection_text(text_embed)  \n",
    "    img_embed_aligned_1 = linear_projection_img(img_embed1) \n",
    "    # normalize\n",
    "    text_embed_aligned = text_embed_aligned / text_embed_aligned.norm(dim=-1, keepdim=True)\n",
    "    img_embed_aligned_1 = img_embed_aligned_1 / img_embed_aligned_1.norm(dim=-1, keepdim=True)\n",
    "    return img_embed_aligned_1,text_embed_aligned"
   ]
  },
  {
   "cell_type": "code",
   "execution_count": 65,
   "id": "bb3c8826",
   "metadata": {},
   "outputs": [
    {
     "name": "stdout",
     "output_type": "stream",
     "text": [
      "dimention of text embedding: torch.Size([512])\n",
      "dimention of image embedding: torch.Size([512])\n"
     ]
    }
   ],
   "source": [
    "dim_align = 512\n",
    "dim_text = 768\n",
    "dim_img = 2048\n",
    "\n",
    "img_embed_aligned_1,text_embed_aligned = linear_projection(img_embed1,text_embed,dim_align,dim_text,dim_img)\n",
    "\n",
    "print('dimention of text embedding:',text_embed_aligned.shape)\n",
    "print('dimention of image embedding:',img_embed_aligned_1.shape)"
   ]
  },
  {
   "cell_type": "markdown",
   "id": "7a4a630a",
   "metadata": {},
   "source": [
    "## 4. Cosine similarity calculation"
   ]
  },
  {
   "cell_type": "code",
   "execution_count": 66,
   "id": "7d73b705",
   "metadata": {},
   "outputs": [],
   "source": [
    "# calculate similarity between image and test\n",
    "def align_embeddings(text_embedding, image_embedding):\n",
    "    similarity = torch.nn.functional.cosine_similarity(text_embedding, image_embedding, dim=0)\n",
    "    return similarity.item()"
   ]
  },
  {
   "cell_type": "code",
   "execution_count": 67,
   "id": "8f8b0ed3",
   "metadata": {},
   "outputs": [
    {
     "data": {
      "text/plain": [
       "0.031788431107997894"
      ]
     },
     "execution_count": 67,
     "metadata": {},
     "output_type": "execute_result"
    }
   ],
   "source": [
    "align_embeddings(text_embed_aligned, img_embed_aligned_1)"
   ]
  },
  {
   "cell_type": "markdown",
   "id": "2eae65bb",
   "metadata": {},
   "source": [
    "## 5. Use prompt to select image"
   ]
  },
  {
   "cell_type": "code",
   "execution_count": 76,
   "id": "dcb3abac",
   "metadata": {},
   "outputs": [
    {
     "name": "stderr",
     "output_type": "stream",
     "text": [
      "Some weights of the model checkpoint at bert-base-uncased were not used when initializing BertModel: ['cls.predictions.transform.LayerNorm.weight', 'cls.seq_relationship.weight', 'cls.predictions.decoder.weight', 'cls.predictions.transform.dense.bias', 'cls.seq_relationship.bias', 'cls.predictions.transform.LayerNorm.bias', 'cls.predictions.transform.dense.weight', 'cls.predictions.bias']\n",
      "- This IS expected if you are initializing BertModel from the checkpoint of a model trained on another task or with another architecture (e.g. initializing a BertForSequenceClassification model from a BertForPreTraining model).\n",
      "- This IS NOT expected if you are initializing BertModel from the checkpoint of a model that you expect to be exactly identical (initializing a BertForSequenceClassification model from a BertForSequenceClassification model).\n"
     ]
    }
   ],
   "source": [
    "text_content = 'a photo of digit 2'\n",
    "text_embed = get_text_embedding(text_content)"
   ]
  },
  {
   "cell_type": "code",
   "execution_count": 80,
   "id": "bbc91043",
   "metadata": {},
   "outputs": [
    {
     "data": {
      "text/plain": [
       "-0.051333289593458176"
      ]
     },
     "execution_count": 80,
     "metadata": {},
     "output_type": "execute_result"
    }
   ],
   "source": [
    "img_path1 = '1.png'\n",
    "img_embed1 = get_image_embedding(img_path1)\n",
    "img_embed_aligned_1,text_embed_aligned = linear_projection(img_embed1,text_embed,dim_align,dim_text,dim_img)\n",
    "align_embeddings(text_embed_aligned, img_embed_aligned_1)"
   ]
  },
  {
   "cell_type": "code",
   "execution_count": 82,
   "id": "70f9718e",
   "metadata": {},
   "outputs": [
    {
     "data": {
      "text/plain": [
       "0.005957046058028936"
      ]
     },
     "execution_count": 82,
     "metadata": {},
     "output_type": "execute_result"
    }
   ],
   "source": [
    "img_path2 = '2.png'\n",
    "img_embed2 = get_image_embedding(img_path2)\n",
    "img_embed_aligned_2,text_embed_aligned = linear_projection(img_embed2,text_embed,dim_align,dim_text,dim_img)\n",
    "align_embeddings(text_embed_aligned, img_embed_aligned_2) # similarity"
   ]
  },
  {
   "cell_type": "markdown",
   "id": "2c464e6a",
   "metadata": {},
   "source": [
    "Since '2.png' has higher similarity with the text 'a photo of digit 2' than '2.png' , we can match '2.png' to 'a photo of digit 2'."
   ]
  },
  {
   "cell_type": "markdown",
   "id": "a100ac26",
   "metadata": {},
   "source": [
    "*Note that in this project, the weights of text embedding model and image embedding model are not trained to be aligned in sematic, thus this is just a  simple implementation of key idea of CLIP and  the result is not reliable.*"
   ]
  },
  {
   "cell_type": "code",
   "execution_count": null,
   "id": "276f8fde",
   "metadata": {},
   "outputs": [],
   "source": []
  }
 ],
 "metadata": {
  "kernelspec": {
   "display_name": "Python 3",
   "language": "python",
   "name": "python3"
  },
  "language_info": {
   "codemirror_mode": {
    "name": "ipython",
    "version": 3
   },
   "file_extension": ".py",
   "mimetype": "text/x-python",
   "name": "python",
   "nbconvert_exporter": "python",
   "pygments_lexer": "ipython3",
   "version": "3.8.8"
  }
 },
 "nbformat": 4,
 "nbformat_minor": 5
}
